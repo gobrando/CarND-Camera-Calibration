{
 "cells": [
  {
   "cell_type": "markdown",
   "metadata": {},
   "source": [
    "##Undistort & Perspective Transform"
   ]
  },
  {
   "cell_type": "code",
   "execution_count": 12,
   "metadata": {},
   "outputs": [
    {
     "name": "stdout",
     "output_type": "stream",
     "text": "[[560.33148363   0.         651.26264911]\n [  0.         561.3767079  499.06540191]\n [  0.           0.           1.        ]]\n[[-2.32949182e-01  6.17242707e-02 -1.80423444e-05  3.39635746e-05\n  -7.54961807e-03]]\n[[[  2   3   1]\n  [  3   4   2]\n  [  4   5   3]\n  ...\n  [ 25  52  56]\n  [ 24  51  55]\n  [ 22  48  52]]\n\n [[  3   3   2]\n  [  2   3   1]\n  [  2   3   1]\n  ...\n  [ 23  49  53]\n  [ 23  49  53]\n  [ 24  47  52]]\n\n [[  3   3   3]\n  [  1   1   0]\n  [  2   2   1]\n  ...\n  [ 22  47  51]\n  [ 24  48  52]\n  [ 25  47  52]]\n\n ...\n\n [[157 170 186]\n  [158 171 187]\n  [158 171 187]\n  ...\n  [145 154 168]\n  [146 155 169]\n  [146 155 169]]\n\n [[158 171 187]\n  [158 171 187]\n  [158 171 187]\n  ...\n  [144 153 168]\n  [145 154 168]\n  [145 154 168]]\n\n [[158 171 187]\n  [158 171 187]\n  [158 171 187]\n  ...\n  [144 152 167]\n  [144 153 167]\n  [145 154 168]]]\n"
    },
    {
     "ename": "TypeError",
     "evalue": "'NoneType' object is not iterable",
     "output_type": "error",
     "traceback": [
      "\u001b[0;31m---------------------------------------------------------------------------\u001b[0m",
      "\u001b[0;31mTypeError\u001b[0m                                 Traceback (most recent call last)",
      "\u001b[0;32m<ipython-input-12-661ec907e08c>\u001b[0m in \u001b[0;36m<module>\u001b[0;34m()\u001b[0m\n\u001b[1;32m     51\u001b[0m         \u001b[0;32mreturn\u001b[0m \u001b[0mwarped\u001b[0m\u001b[0;34m,\u001b[0m \u001b[0mM\u001b[0m\u001b[0;34m\u001b[0m\u001b[0m\n\u001b[1;32m     52\u001b[0m \u001b[0;34m\u001b[0m\u001b[0m\n\u001b[0;32m---> 53\u001b[0;31m \u001b[0mtop_down\u001b[0m\u001b[0;34m,\u001b[0m \u001b[0mperspective_M\u001b[0m \u001b[0;34m=\u001b[0m \u001b[0mcorners_unwarp\u001b[0m\u001b[0;34m(\u001b[0m\u001b[0mimg\u001b[0m\u001b[0;34m,\u001b[0m \u001b[0mnx\u001b[0m\u001b[0;34m,\u001b[0m \u001b[0mny\u001b[0m\u001b[0;34m,\u001b[0m \u001b[0mmtx\u001b[0m\u001b[0;34m,\u001b[0m \u001b[0mdist\u001b[0m\u001b[0;34m)\u001b[0m\u001b[0;34m\u001b[0m\u001b[0m\n\u001b[0m\u001b[1;32m     54\u001b[0m \u001b[0mf\u001b[0m\u001b[0;34m,\u001b[0m \u001b[0;34m(\u001b[0m\u001b[0max1\u001b[0m\u001b[0;34m,\u001b[0m \u001b[0max2\u001b[0m\u001b[0;34m)\u001b[0m \u001b[0;34m=\u001b[0m \u001b[0mplt\u001b[0m\u001b[0;34m.\u001b[0m\u001b[0msubplots\u001b[0m\u001b[0;34m(\u001b[0m\u001b[0;36m1\u001b[0m\u001b[0;34m,\u001b[0m \u001b[0;36m2\u001b[0m\u001b[0;34m,\u001b[0m \u001b[0mfigsize\u001b[0m\u001b[0;34m=\u001b[0m\u001b[0;34m(\u001b[0m\u001b[0;36m24\u001b[0m\u001b[0;34m,\u001b[0m \u001b[0;36m9\u001b[0m\u001b[0;34m)\u001b[0m\u001b[0;34m)\u001b[0m\u001b[0;34m\u001b[0m\u001b[0m\n\u001b[1;32m     55\u001b[0m \u001b[0mf\u001b[0m\u001b[0;34m.\u001b[0m\u001b[0mtight_layout\u001b[0m\u001b[0;34m(\u001b[0m\u001b[0;34m)\u001b[0m\u001b[0;34m\u001b[0m\u001b[0m\n",
      "\u001b[0;31mTypeError\u001b[0m: 'NoneType' object is not iterable"
     ]
    }
   ],
   "source": [
    "import pickle\n",
    "import cv2\n",
    "import numpy as np\n",
    "import matplotlib.pyplot as plt\n",
    "import matplotlib.image as mpimg\n",
    "import pandas as pd\n",
    "\n",
    "# Read in the saved camera matrix and distortion coefficients\n",
    "# These are the arrays you calculated using cv2.calibrateCamera()\n",
    "dist_pickle = pickle.load( open( \"/Users/brandoncanniff/Code2020/Self-Driving-Cars/Camera Calibration/CarND-Camera-Calibration/wide_dist_pickle.p\", \"rb\" ) )\n",
    "mtx = dist_pickle[\"mtx\"]\n",
    "print(mtx)\n",
    "dist = dist_pickle[\"dist\"]\n",
    "print(dist)\n",
    "# Read in an image\n",
    "img = cv2.imread('/Users/brandoncanniff/Code2020/Self-Driving-Cars/Camera Calibration/CarND-Camera-Calibration/bridge_shadow.jpg')\n",
    "nx = 8 # the number of inside corners in x\n",
    "ny = 6 # the number of inside corners in y\n",
    "\n",
    "# MODIFY THIS FUNCTION TO GENERATE OUTPUT \n",
    "# THAT LOOKS LIKE THE IMAGE ABOVE\n",
    "def corners_unwarp(img, nx, ny, mtx, dist):\n",
    "    # Pass in your image into this function\n",
    "    # Write code to do the following steps\n",
    "    # 1) Undistort using mtx and dist\n",
    "    undst = cv2.undistort(img, mtx, dist, None, mtx)\n",
    "    print(undst)\n",
    "    # 2) Convert to grayscale\n",
    "    gray = cv2.cvtColor(undst, cv2.COLOR_BGR2GRAY)\n",
    "    plt.imshow(gray)\n",
    "    # 3) Find the chessboard corners\n",
    "    ret, corners = cv2.findChessboardCorners(gray, (nx, ny), None)\n",
    "    # 4) If corners found: \n",
    "    if ret == True:\n",
    "        # a) draw corners\n",
    "        cv2.drawChessboardCorners(undst, (nx, ny), corners, ret)\n",
    "        # b) define 4 source points src = np.float32([[,],[,],[,],[,]])\n",
    "        img_size = [gray.shape[1], gray.shape[0]]\n",
    "        top_left = corners[0][0]\n",
    "        top_right = corners[nx-1][0]\n",
    "        bottom_left = corners[-nx][0]\n",
    "        bottom_right = corners[-1][0]\n",
    "        src = np.float32([top_left, top_right, bottom_left, bottom_right])\n",
    "        # c) define 4 destination points dst = np.float32([[,],[,],[,],[,]])\n",
    "        offset = 100\n",
    "        dst = np.float32([[offset,offset], [img_size[0] - offset,offset], [offset,img_size[1] - offset], [img_size[0] - offset, img_size[1] - offset]])\n",
    "        # d) use cv2.getPerspectiveTransform() to get M, the transform matrix\n",
    "        M = cv2.getPerspectiveTransform(src, dst)\n",
    "        # e) use cv2.warpPerspective() to warp your image to a top-down view\n",
    "        warped = cv2.warpPerspective(undst, M, (gray.shape[1], gray.shape[0]))\n",
    "        return warped, M\n",
    "\n",
    "top_down, perspective_M = corners_unwarp(img, nx, ny, mtx, dist)\n",
    "f, (ax1, ax2) = plt.subplots(1, 2, figsize=(24, 9))\n",
    "f.tight_layout()\n",
    "ax1.imshow(img)\n",
    "ax1.set_title('Original Image', fontsize=50)\n",
    "ax2.imshow(top_down)\n",
    "ax2.set_title('Undistorted and Warped Image', fontsize=50)\n",
    "plt.subplots_adjust(left=0., right=1, top=0.9, bottom=0.)"
   ]
  },
  {
   "cell_type": "code",
   "execution_count": null,
   "metadata": {},
   "outputs": [],
   "source": []
  }
 ],
 "metadata": {
  "anaconda-cloud": {},
  "kernelspec": {
   "display_name": "Python 3",
   "language": "python",
   "name": "python3"
  },
  "language_info": {
   "codemirror_mode": {
    "name": "ipython",
    "version": 3
   },
   "file_extension": ".py",
   "mimetype": "text/x-python",
   "name": "python",
   "nbconvert_exporter": "python",
   "pygments_lexer": "ipython3",
   "version": "3.6.4-final"
  }
 },
 "nbformat": 4,
 "nbformat_minor": 1
}